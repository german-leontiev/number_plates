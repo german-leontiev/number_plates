{
 "cells": [
  {
   "cell_type": "code",
   "execution_count": 8,
   "id": "16b52149-24a9-4965-b02f-c96404d84763",
   "metadata": {},
   "outputs": [],
   "source": [
    "from glob import glob\n",
    "import pandas as pd\n",
    "import shutil"
   ]
  },
  {
   "cell_type": "markdown",
   "id": "1e06b8a2-1cb2-4696-83cd-abacbddd6a31",
   "metadata": {},
   "source": [
    "Сравним все модели по метрике box_loss на валидационной выборке и выберем лучший вариант"
   ]
  },
  {
   "cell_type": "code",
   "execution_count": 3,
   "id": "5f26eb7e-7c12-406e-810e-50ed0ecfad17",
   "metadata": {},
   "outputs": [
    {
     "name": "stdout",
     "output_type": "stream",
     "text": [
      "Model: yolov5m\n",
      "Optimizer: AdamW\n",
      "Number of epochs: 20\n",
      "\n",
      "Box_loss: 0.011571\n",
      "==========\n",
      "Model: yolov5m\n",
      "Optimizer: AdamW\n",
      "Number of epochs: 30\n",
      "\n",
      "Box_loss: 0.011055\n",
      "==========\n",
      "Model: yolov5m\n",
      "Optimizer: Adam\n",
      "Number of epochs: 20\n",
      "\n",
      "Box_loss: 0.011571\n",
      "==========\n",
      "Model: yolov5m\n",
      "Optimizer: Adam\n",
      "Number of epochs: 30\n",
      "\n",
      "Box_loss: 0.011055\n",
      "==========\n",
      "Model: yolov5m\n",
      "Optimizer: Adam\n",
      "Number of epochs: 40\n",
      "\n",
      "Box_loss: 0.010773\n",
      "==========\n",
      "Model: yolov5m\n",
      "Optimizer: SGD\n",
      "Number of epochs: 20\n",
      "\n",
      "Box_loss: 0.011571\n",
      "==========\n",
      "Model: yolov5m\n",
      "Optimizer: SGD\n",
      "Number of epochs: 30\n",
      "\n",
      "Box_loss: 0.011055\n",
      "==========\n",
      "Model: yolov5m\n",
      "Optimizer: SGD\n",
      "Number of epochs: 40\n",
      "\n",
      "Box_loss: 0.010773\n",
      "==========\n",
      "Model: yolov5n\n",
      "Optimizer: AdamW\n",
      "Number of epochs: 20\n",
      "\n",
      "Box_loss: 0.014201\n",
      "==========\n",
      "Model: yolov5n\n",
      "Optimizer: AdamW\n",
      "Number of epochs: 30\n",
      "\n",
      "Box_loss: 0.013555\n",
      "==========\n",
      "Model: yolov5n\n",
      "Optimizer: AdamW\n",
      "Number of epochs: 40\n",
      "\n",
      "Box_loss: 0.013035\n",
      "==========\n",
      "Model: yolov5n\n",
      "Optimizer: Adam\n",
      "Number of epochs: 20\n",
      "\n",
      "Box_loss: 0.014201\n",
      "==========\n",
      "Model: yolov5n\n",
      "Optimizer: Adam\n",
      "Number of epochs: 30\n",
      "\n",
      "Box_loss: 0.013555\n",
      "==========\n",
      "Model: yolov5n\n",
      "Optimizer: Adam\n",
      "Number of epochs: 40\n",
      "\n",
      "Box_loss: 0.013035\n",
      "==========\n",
      "Model: yolov5n\n",
      "Optimizer: SGD\n",
      "Number of epochs: 20\n",
      "\n",
      "Box_loss: 0.014201\n",
      "==========\n",
      "Model: yolov5n\n",
      "Optimizer: SGD\n",
      "Number of epochs: 30\n",
      "\n",
      "Box_loss: 0.013555\n",
      "==========\n",
      "Model: yolov5n\n",
      "Optimizer: SGD\n",
      "Number of epochs: 40\n",
      "\n",
      "Box_loss: 0.013035\n",
      "==========\n"
     ]
    }
   ],
   "source": [
    "best_loss = 1\n",
    "best_model = None\n",
    "for i, test in enumerate(glob(\"tests/*\")):\n",
    "    res_path = test + \"/results.csv\"\n",
    "\n",
    "    df_res = pd.read_csv(res_path)\n",
    "\n",
    "    val_box_col = [l for l in df_res.columns if \"val/box_loss\" in l][0]\n",
    "\n",
    "    last_box_loss = df_res.loc[:, val_box_col].values[-1]\n",
    "    model, optimizer, n_epochs = test.split(\"/\")[1].split(\"_\")\n",
    "    print(\n",
    "        f\"Model: {model}\\nOptimizer: {optimizer}\\nNumber of epochs: {n_epochs}\\n\\nBox_loss: {last_box_loss}\\n\"\n",
    "        + \"=\" * 10\n",
    "    )\n",
    "    if last_box_loss < best_loss:\n",
    "        best_loss = last_box_loss\n",
    "        best_model = test"
   ]
  },
  {
   "cell_type": "markdown",
   "id": "f62535a6-200d-4522-9bf5-6ec69bb36240",
   "metadata": {},
   "source": [
    "Скопируем модель в корень проекта с именем `best.pt`"
   ]
  },
  {
   "cell_type": "code",
   "execution_count": 7,
   "id": "69a298f0-490f-4a36-8afc-6bf1945e07a3",
   "metadata": {},
   "outputs": [
    {
     "data": {
      "text/plain": [
       "'best.pt'"
      ]
     },
     "execution_count": 7,
     "metadata": {},
     "output_type": "execute_result"
    }
   ],
   "source": [
    "shutil.copy(best_model + \"/weights/best.pt\", \"best.pt\")"
   ]
  }
 ],
 "metadata": {
  "kernelspec": {
   "display_name": "Python 3",
   "language": "python",
   "name": "python3"
  },
  "language_info": {
   "codemirror_mode": {
    "name": "ipython",
    "version": 3
   },
   "file_extension": ".py",
   "mimetype": "text/x-python",
   "name": "python",
   "nbconvert_exporter": "python",
   "pygments_lexer": "ipython3",
   "version": "3.8.13"
  }
 },
 "nbformat": 4,
 "nbformat_minor": 5
}
